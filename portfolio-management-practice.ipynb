{
 "cells": [
  {
   "cell_type": "code",
   "execution_count": 45,
   "metadata": {},
   "outputs": [],
   "source": [
    "# from sif.sifinfra import sif_utils as su\n",
    "import os\n",
    "import sklearn\n",
    "import numpy as np\n",
    "import datetime\n",
    "import yfinance as yf\n",
    "import pandas as pd"
   ]
  },
  {
   "cell_type": "code",
   "execution_count": 46,
   "metadata": {},
   "outputs": [],
   "source": [
    "SandP500_list = ['MMM', 'AOS', 'ABT', 'ABBV', 'ABMD', 'ACN', 'ATVI', 'ADM', 'ADBE', 'AAP',\n",
    " 'AMD', 'AES', 'AFL', 'A', 'APD', 'AKAM', 'ALK', 'ALB', 'ARE', 'ALGN', 'ALLE',\n",
    " 'LNT', 'ALL', 'GOOGL', 'GOOG', 'MO', 'AMZN', 'AMCR', 'AEE', 'AAL', 'AEP', 'AXP',\n",
    " 'AIG', 'AMT', 'AWK', 'AMP', 'ABC', 'AME', 'AMGN', 'APH', 'ADI', 'ANSS', 'ANTM',\n",
    " 'AON', 'APA', 'AAPL', 'AMAT', 'APTV', 'ANET', 'AJG', 'AIZ', 'T', 'ATO', 'ADSK',\n",
    " 'ADP', 'AZO', 'AVB', 'AVY', 'BKR', 'BLL', 'BAC', 'BBWI', 'BAX', 'BDX', 'BRK.B',\n",
    " 'BBY', 'BIO', 'TECH', 'BIIB', 'BLK', 'BK', 'BA', 'BKNG', 'BWA', 'BXP', 'BSX', 'BMY',\n",
    " 'AVGO', 'BR', 'BRO', 'BF.B', 'CHRW', 'CDNS', 'CZR', 'CPB', 'COF', 'CAH', 'KMX', 'CCL',\n",
    " 'CARR', 'CTLT', 'CAT', 'CBOE', 'CBRE', 'CDW', 'CE', 'CNC', 'CNP', 'CDAY', 'CERN', 'CF',\n",
    " 'CRL', 'SCHW', 'CHTR', 'CVX', 'CMG', 'CB', 'CHD', 'CI', 'CINF', 'CTAS', 'CSCO', 'C', 'CFG',\n",
    " 'CTXS', 'CLX', 'CME', 'CMS', 'KO', 'CTSH', 'CL', 'CMCSA', 'CMA', 'CAG', 'COP', 'ED', 'STZ',\n",
    " 'CPRT', 'GLW', 'CTVA', 'COST', 'CTRA', 'CCI', 'CSX', 'CMI', 'CVS', 'DHI', 'DHR', 'DRI',\n",
    " 'DVA', 'DE', 'DAL', 'XRAY', 'DVN', 'DXCM', 'FANG', 'DLR', 'DFS', 'DISCA', 'DISCK', 'DISH',\n",
    " 'DG', 'DLTR', 'D', 'DPZ', 'DOV', 'DOW', 'DTE', 'DUK', 'DRE', 'DD', 'DXC', 'EMN', 'ETN',\n",
    " 'EBAY', 'ECL', 'EIX', 'EW', 'EA', 'LLY', 'EMR', 'ENPH', 'ETR', 'EOG', 'EFX', 'EQIX', 'EQR',\n",
    " 'ESS', 'EL', 'ETSY', 'RE', 'EVRG', 'ES', 'EXC', 'EXPE', 'EXPD', 'EXR', 'XOM', 'FFIV', 'FB',\n",
    " 'FAST', 'FRT', 'FDX', 'FIS', 'FITB', 'FRC', 'FE', 'FISV', 'FLT', 'FMC', 'F', 'FTNT', 'FTV',\n",
    " 'FBHS', 'FOXA', 'FOX', 'BEN', 'FCX', 'GPS', 'GRMN', 'IT', 'GNRC', 'GD', 'GE', 'GIS', 'GM',\n",
    " 'GPC', 'GILD', 'GPN', 'GL', 'GS', 'HAL', 'HBI', 'HAS', 'HCA', 'PEAK', 'HSIC', 'HES', 'HPE',\n",
    " 'HLT', 'HOLX', 'HD', 'HON', 'HRL', 'HST', 'HWM', 'HPQ', 'HUM', 'HBAN', 'HII', 'IBM', 'IEX',\n",
    " 'IDXX', 'INFO', 'ITW', 'ILMN', 'INCY', 'IR', 'INTC', 'ICE', 'IFF', 'IP', 'IPG', 'INTU', 'ISRG',\n",
    " 'IVZ', 'IPGP', 'IQV', 'IRM', 'JBHT', 'JKHY', 'J', 'SJM', 'JNJ', 'JCI', 'JPM', 'JNPR', 'KSU', 'K',\n",
    " 'KEY', 'KEYS', 'KMB', 'KIM', 'KMI', 'KLAC', 'KHC', 'KR', 'LHX', 'LH', 'LRCX', 'LW', 'LVS', 'LEG',\n",
    " 'LDOS', 'LEN', 'LNC', 'LIN', 'LYV', 'LKQ', 'LMT', 'L', 'LOW', 'LUMN', 'LYB', 'MTB', 'MRO', 'MPC',\n",
    " 'MKTX', 'MAR', 'MMC', 'MLM', 'MAS', 'MA', 'MTCH', 'MKC', 'MCD', 'MCK', 'MDT', 'MRK', 'MET', 'MTD',\n",
    " 'MGM', 'MCHP', 'MU', 'MSFT', 'MAA', 'MRNA', 'MHK', 'TAP', 'MDLZ', 'MPWR', 'MNST', 'MCO', 'MS', 'MSI',\n",
    " 'MSCI', 'NDAQ', 'NTAP', 'NFLX', 'NWL', 'NEM', 'NWSA', 'NWS', 'NEE', 'NLSN', 'NKE', 'NI', 'NSC', 'NTRS',\n",
    " 'NOC', 'NLOK', 'NCLH', 'NRG', 'NUE', 'NVDA', 'NVR', 'NXPI', 'ORLY', 'OXY', 'ODFL', 'OMC', 'OKE', 'ORCL',\n",
    " 'OGN', 'OTIS', 'PCAR', 'PKG', 'PH', 'PAYX', 'PAYC', 'PYPL', 'PENN', 'PNR', 'PBCT', 'PEP', 'PKI', 'PFE',\n",
    " 'PM', 'PSX', 'PNW', 'PXD', 'PNC', 'POOL', 'PPG', 'PPL', 'PFG', 'PG', 'PGR', 'PLD', 'PRU', 'PTC', 'PEG',\n",
    " 'PSA', 'PHM', 'PVH', 'QRVO', 'QCOM', 'PWR', 'DGX', 'RL', 'RJF', 'RTX', 'O', 'REG', 'REGN', 'RF', 'RSG',\n",
    " 'RMD', 'RHI', 'ROK', 'ROL', 'ROP', 'ROST', 'RCL', 'SPGI', 'CRM', 'SBAC', 'SLB', 'STX', 'SEE', 'SRE',\n",
    " 'NOW', 'SHW', 'SPG', 'SWKS', 'SNA', 'SO', 'LUV', 'SWK', 'SBUX', 'STT', 'STE', 'SYK', 'SIVB', 'SYF',\n",
    " 'SNPS', 'SYY', 'TMUS', 'TROW', 'TTWO', 'TPR', 'TGT', 'TEL', 'TDY', 'TFX', 'TER', 'TSLA', 'TXN', 'TXT',\n",
    " 'COO', 'HIG', 'HSY', 'MOS', 'TRV', 'DIS', 'TMO', 'TJX', 'TSCO', 'TT', 'TDG', 'TRMB', 'TFC', 'TWTR',\n",
    " 'TYL', 'TSN', 'USB', 'UDR', 'ULTA', 'UAA', 'UA', 'UNP', 'UAL', 'UPS', 'URI', 'UNH', 'UHS', 'VLO',\n",
    " 'VTR', 'VRSN', 'VRSK', 'VZ', 'VRTX', 'VFC', 'VIAC', 'VTRS', 'V', 'VNO', 'VMC', 'WRB', 'GWW', 'WAB',\n",
    " 'WBA', 'WMT', 'WM', 'WAT', 'WEC', 'WFC', 'WELL', 'WST', 'WDC', 'WU', 'WRK', 'WY', 'WHR', 'WMB', 'WLTW',\n",
    " 'WYNN', 'XEL', 'XLNX', 'XYL', 'YUM', 'ZBRA', 'ZBH', 'ZION', 'ZTS']"
   ]
  },
  {
   "cell_type": "markdown",
   "metadata": {},
   "source": [
    "Download SPY data, which will be the independent variable for each regression. \n",
    "We consider SPY to be the market, universe of stocks (technically an approximation but whatever)"
   ]
  },
  {
   "cell_type": "code",
   "execution_count": 57,
   "metadata": {},
   "outputs": [
    {
     "name": "stdout",
     "output_type": "stream",
     "text": [
      "[*********************100%***********************]  1 of 1 completed\n"
     ]
    }
   ],
   "source": [
    "start_date = datetime.datetime(2016, 1, 1)\n",
    "end_date = datetime.datetime(2020, 1, 1)\n",
    "\n",
    "sp = yf.download('SPY', start=start_date, end=end_date)"
   ]
  },
  {
   "cell_type": "markdown",
   "metadata": {},
   "source": [
    "Download data for all stocks in our universe"
   ]
  },
  {
   "cell_type": "code",
   "execution_count": 65,
   "metadata": {},
   "outputs": [
    {
     "name": "stdout",
     "output_type": "stream",
     "text": [
      "[*                      3%                       ]  13 of 505 completedGot error from yahoo api for ticker XLNX, Error: {'code': 'Not Found', 'description': 'No data found, symbol may be delisted'}\n",
      "[********              17%                       ]  86 of 505 completedGot error from yahoo api for ticker KSU, Error: {'code': 'Not Found', 'description': 'No data found, symbol may be delisted'}\n",
      "[*********             18%                       ]  93 of 505 completedGot error from yahoo api for ticker BLL, Error: {'code': 'Not Found', 'description': 'No data found, symbol may be delisted'}\n",
      "[************          26%                       ]  133 of 505 completedGot error from yahoo api for ticker ANTM, Error: {'code': 'Not Found', 'description': 'No data found, symbol may be delisted'}\n",
      "[*****************     35%                       ]  178 of 505 completedGot error from yahoo api for ticker CERN, Error: {'code': 'Not Found', 'description': 'No data found, symbol may be delisted'}\n",
      "[**********************58%***                    ]  295 of 505 completedGot error from yahoo api for ticker BRK.B, Error: {'code': 'Not Found', 'description': 'No data found, symbol may be delisted'}\n",
      "[**********************59%***                    ]  298 of 505 completedGot error from yahoo api for ticker WLTW, Error: {'code': 'Not Found', 'description': 'No data found, symbol may be delisted'}\n",
      "[**********************61%****                   ]  306 of 505 completedGot error from yahoo api for ticker PBCT, Error: {'code': 'Not Found', 'description': 'No data found, symbol may be delisted'}\n",
      "[**********************76%***********            ]  384 of 505 completedGot error from yahoo api for ticker DISCK, Error: {'code': 'Not Found', 'description': 'No data found, symbol may be delisted'}\n",
      "[**********************83%***************        ]  421 of 505 completedGot error from yahoo api for ticker VIAC, Error: {'code': 'Not Found', 'description': 'No data found, symbol may be delisted'}\n",
      "[**********************90%******************     ]  454 of 505 completedGot error from yahoo api for ticker FB, Error: {'code': 'Not Found', 'description': 'No data found, symbol may be delisted'}\n",
      "[**********************90%******************     ]  457 of 505 completedGot error from yahoo api for ticker INFO, Error: {'code': 'Not Found', 'description': 'No data found, symbol may be delisted'}\n",
      "[**********************98%********************** ]  495 of 505 completedGot error from yahoo api for ticker DISCA, Error: {'code': 'Not Found', 'description': 'No data found, symbol may be delisted'}\n",
      "[*********************100%***********************]  505 of 505 completed\n",
      "\n",
      "17 Failed downloads:\n",
      "- XLNX: No data found for this date range, symbol may be delisted\n",
      "- BF.B: No data found for this date range, symbol may be delisted\n",
      "- KSU: No data found for this date range, symbol may be delisted\n",
      "- BLL: No data found for this date range, symbol may be delisted\n",
      "- ANTM: No data found for this date range, symbol may be delisted\n",
      "- CERN: No data found for this date range, symbol may be delisted\n",
      "- CARR: Data doesn't exist for startDate = 1451624400, endDate = 1577854800\n",
      "- BRK.B: No data found for this date range, symbol may be delisted\n",
      "- WLTW: No data found for this date range, symbol may be delisted\n",
      "- PBCT: No data found for this date range, symbol may be delisted\n",
      "- DISCK: No data found for this date range, symbol may be delisted\n",
      "- VIAC: No data found for this date range, symbol may be delisted\n",
      "- OTIS: Data doesn't exist for startDate = 1451624400, endDate = 1577854800\n",
      "- FB: No data found for this date range, symbol may be delisted\n",
      "- INFO: No data found for this date range, symbol may be delisted\n",
      "- OGN: Data doesn't exist for startDate = 1451624400, endDate = 1577854800\n",
      "- DISCA: No data found for this date range, symbol may be delisted\n"
     ]
    }
   ],
   "source": [
    "# regression_stocks = ['GOOGL', 'AMZN', 'CNC']\n",
    "# regression_stocks = SandP500_list[:10]\n",
    "# for ticker in regression_stocks:\n",
    "#     closing_prices[ticker] = yf.download(ticker, start=start_date, end=end_date)[\"Close\"]\n",
    "universe_data = yf.download(SandP500_list, start=start_date, end=end_date)"
   ]
  },
  {
   "cell_type": "markdown",
   "metadata": {},
   "source": [
    "Clean data, get closing prices, remove stocks with NaN data"
   ]
  },
  {
   "cell_type": "code",
   "execution_count": 92,
   "metadata": {},
   "outputs": [],
   "source": [
    "# closing_prices\n",
    "# tickers = closing_prices.columns\n",
    "# print(tickers)\n",
    "closing_prices = universe_data['Close']\n",
    "closing_prices = closing_prices.dropna(axis=1, how='any')\n",
    "# print(closing_prices.isnull().values.any())\n",
    "# tickers"
   ]
  },
  {
   "cell_type": "markdown",
   "metadata": {},
   "source": [
    "Perform regression for all stocks"
   ]
  },
  {
   "cell_type": "code",
   "execution_count": 93,
   "metadata": {},
   "outputs": [],
   "source": [
    "from sklearn import linear_model\n",
    "import matplotlib.pyplot as plt\n",
    "\n",
    "spy_closing = sp['Close']\n",
    "X_data = np.expand_dims(spy_closing, axis=1)\n",
    "# print(X_data.shape)\n",
    "\n",
    "tickers = closing_prices.columns\n",
    "alphas = []\n",
    "betas = []\n",
    "scores = []\n",
    "\n",
    "for ticker in tickers:\n",
    "    reg = linear_model.LinearRegression(fit_intercept =True)\n",
    "    # df1 = closing_prices[['SPY', ticker]]\n",
    "    # X data is spy_closing\n",
    "    y_data = closing_prices[ticker]\n",
    "    reg.fit(X_data, y_data)\n",
    "    y_pred = reg.predict(X_data)\n",
    "    # print(reg.score())\n",
    "    # plt.scatter(X_data, y_pred)\n",
    "    # plt.plot(X_data, y_pred)\n",
    "    # plt.show()\n",
    "    alphas.append(reg.intercept_)\n",
    "    betas.append(reg.coef_[0])\n",
    "    scores.append(reg.score(X_data, y_data))\n",
    "    # print(reg.coef_)\n",
    "    # print(reg.intercept_)\n",
    "    # print(reg.summary)"
   ]
  },
  {
   "cell_type": "code",
   "execution_count": 94,
   "metadata": {},
   "outputs": [
    {
     "data": {
      "text/html": [
       "<div>\n",
       "<style scoped>\n",
       "    .dataframe tbody tr th:only-of-type {\n",
       "        vertical-align: middle;\n",
       "    }\n",
       "\n",
       "    .dataframe tbody tr th {\n",
       "        vertical-align: top;\n",
       "    }\n",
       "\n",
       "    .dataframe thead th {\n",
       "        text-align: right;\n",
       "    }\n",
       "</style>\n",
       "<table border=\"1\" class=\"dataframe\">\n",
       "  <thead>\n",
       "    <tr style=\"text-align: right;\">\n",
       "      <th></th>\n",
       "      <th>Alpha</th>\n",
       "      <th>Beta</th>\n",
       "      <th>Score</th>\n",
       "    </tr>\n",
       "    <tr>\n",
       "      <th>Ticker</th>\n",
       "      <th></th>\n",
       "      <th></th>\n",
       "      <th></th>\n",
       "    </tr>\n",
       "  </thead>\n",
       "  <tbody>\n",
       "    <tr>\n",
       "      <th>A</th>\n",
       "      <td>-30.992813</td>\n",
       "      <td>0.362001</td>\n",
       "      <td>0.895161</td>\n",
       "    </tr>\n",
       "    <tr>\n",
       "      <th>AAL</th>\n",
       "      <td>54.825535</td>\n",
       "      <td>-0.058845</td>\n",
       "      <td>0.061314</td>\n",
       "    </tr>\n",
       "    <tr>\n",
       "      <th>AAP</th>\n",
       "      <td>144.937995</td>\n",
       "      <td>-0.003722</td>\n",
       "      <td>0.000026</td>\n",
       "    </tr>\n",
       "    <tr>\n",
       "      <th>AAPL</th>\n",
       "      <td>-42.664731</td>\n",
       "      <td>0.327398</td>\n",
       "      <td>0.923643</td>\n",
       "    </tr>\n",
       "    <tr>\n",
       "      <th>ABBV</th>\n",
       "      <td>-1.323877</td>\n",
       "      <td>0.310450</td>\n",
       "      <td>0.424524</td>\n",
       "    </tr>\n",
       "    <tr>\n",
       "      <th>...</th>\n",
       "      <td>...</td>\n",
       "      <td>...</td>\n",
       "      <td>...</td>\n",
       "    </tr>\n",
       "    <tr>\n",
       "      <th>YUM</th>\n",
       "      <td>-42.823783</td>\n",
       "      <td>0.482592</td>\n",
       "      <td>0.838308</td>\n",
       "    </tr>\n",
       "    <tr>\n",
       "      <th>ZBH</th>\n",
       "      <td>69.244279</td>\n",
       "      <td>0.183605</td>\n",
       "      <td>0.320007</td>\n",
       "    </tr>\n",
       "    <tr>\n",
       "      <th>ZBRA</th>\n",
       "      <td>-273.884194</td>\n",
       "      <td>1.585475</td>\n",
       "      <td>0.869672</td>\n",
       "    </tr>\n",
       "    <tr>\n",
       "      <th>ZION</th>\n",
       "      <td>-17.260268</td>\n",
       "      <td>0.235920</td>\n",
       "      <td>0.666457</td>\n",
       "    </tr>\n",
       "    <tr>\n",
       "      <th>ZTS</th>\n",
       "      <td>-106.260955</td>\n",
       "      <td>0.716029</td>\n",
       "      <td>0.879163</td>\n",
       "    </tr>\n",
       "  </tbody>\n",
       "</table>\n",
       "<p>477 rows × 3 columns</p>\n",
       "</div>"
      ],
      "text/plain": [
       "             Alpha      Beta     Score\n",
       "Ticker                                \n",
       "A       -30.992813  0.362001  0.895161\n",
       "AAL      54.825535 -0.058845  0.061314\n",
       "AAP     144.937995 -0.003722  0.000026\n",
       "AAPL    -42.664731  0.327398  0.923643\n",
       "ABBV     -1.323877  0.310450  0.424524\n",
       "...            ...       ...       ...\n",
       "YUM     -42.823783  0.482592  0.838308\n",
       "ZBH      69.244279  0.183605  0.320007\n",
       "ZBRA   -273.884194  1.585475  0.869672\n",
       "ZION    -17.260268  0.235920  0.666457\n",
       "ZTS    -106.260955  0.716029  0.879163\n",
       "\n",
       "[477 rows x 3 columns]"
      ]
     },
     "execution_count": 94,
     "metadata": {},
     "output_type": "execute_result"
    }
   ],
   "source": [
    "# print(alpha_dict)\n",
    "# print(beta_dict)\n",
    "# print(score_dict)\n",
    "\n",
    "# regression_df = pd.DataFrame(alpha_dict, beta_dict, score_dict)\n",
    "regression_df = pd.DataFrame({\"Ticker\": tickers, \"Alpha\": alphas, \"Beta\": betas, \"Score\": scores})\n",
    "regression_df = regression_df.set_index(\"Ticker\")\n",
    "regression_df"
   ]
  },
  {
   "cell_type": "code",
   "execution_count": 99,
   "metadata": {},
   "outputs": [
    {
     "name": "stdout",
     "output_type": "stream",
     "text": [
      "Average Beta is 0.46331623534203925\n",
      "Lowest Beta is -1.8236468484753878\n"
     ]
    }
   ],
   "source": [
    "print(\"Average Beta is \" + str(regression_df[\"Beta\"].mean()))\n",
    "print(\"Lowest Beta is \" + str(regression_df[\"Beta\"].min()))"
   ]
  }
 ],
 "metadata": {
  "kernelspec": {
   "display_name": "Python 3.10.6 ('personal')",
   "language": "python",
   "name": "python3"
  },
  "language_info": {
   "codemirror_mode": {
    "name": "ipython",
    "version": 3
   },
   "file_extension": ".py",
   "mimetype": "text/x-python",
   "name": "python",
   "nbconvert_exporter": "python",
   "pygments_lexer": "ipython3",
   "version": "3.10.6"
  },
  "orig_nbformat": 4,
  "vscode": {
   "interpreter": {
    "hash": "a236ca00724842a93f170eb885377173f91aa5dda4788069e1495b704ff7995b"
   }
  }
 },
 "nbformat": 4,
 "nbformat_minor": 2
}
